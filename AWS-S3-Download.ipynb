{
 "cells": [
  {
   "cell_type": "code",
   "execution_count": null,
   "id": "457c8a24",
   "metadata": {},
   "outputs": [],
   "source": [
    "import boto3\n",
    "\n",
    "#NB below may or may not be required (depending on whether logged in to AWS via CLI)\n",
    "# s3 = boto3.resource(\n",
    "#   's3',\n",
    "#   region_name='eu-west-2',\n",
    "#   aws_access_key_id=aws_cr.ACCESS_KEY,\n",
    "#   aws_secret_access_key=aws_cr.SECRET_KEY\n",
    "# )"
   ]
  },
  {
   "cell_type": "code",
   "execution_count": null,
   "id": "b47a8204",
   "metadata": {},
   "outputs": [],
   "source": [
    "s3 = boto3.client('s3')\n",
    "\n",
    "# s3.download_file('BUCKET_NAME', 'OBJECT_NAME', 'FILE_NAME')\n",
    "s3.download_file('my-s3-fs', 'cats/cat.16.jpg', 'cat.16.jpg')"
   ]
  },
  {
   "cell_type": "code",
   "execution_count": null,
   "id": "7fd8d28f",
   "metadata": {},
   "outputs": [],
   "source": [
    "# or grab all files in the bucket...and put them in \"class\" folders\n",
    "\n",
    "import os\n",
    "\n",
    "#initiate s3 resource\n",
    "s3 = boto3.resource('s3')\n",
    "\n",
    "# select bucket\n",
    "my_bucket = s3.Bucket('my-s3-fs')\n",
    "\n",
    "# download file into current directory\n",
    "for s3_object in my_bucket.objects.all():\n",
    "    # Need to split s3_object.key into path and file name, else it will give error file not found.\n",
    "    path, filename = os.path.split(s3_object.key)\n",
    "    try:\n",
    "        os.makedirs(path)\n",
    "        # NB first parameter is the S3 files, second is the local pathname to download them to\n",
    "        # these are the same as S3 object is e.g. 'cats/cat.1.jpg' as is the local path\n",
    "        my_bucket.download_file(s3_object.key, s3_object.key)\n",
    "    except:\n",
    "        my_bucket.download_file(s3_object.key, s3_object.key)"
   ]
  },
  {
   "cell_type": "markdown",
   "id": "23669181",
   "metadata": {},
   "source": [
    "Further Reference: https://boto3.amazonaws.com/v1/documentation/api/latest/guide/s3-example-download-file.html"
   ]
  }
 ],
 "metadata": {
  "kernelspec": {
   "display_name": "Python 3",
   "language": "python",
   "name": "python3"
  },
  "language_info": {
   "codemirror_mode": {
    "name": "ipython",
    "version": 3
   },
   "file_extension": ".py",
   "mimetype": "text/x-python",
   "name": "python",
   "nbconvert_exporter": "python",
   "pygments_lexer": "ipython3",
   "version": "3.8.8"
  }
 },
 "nbformat": 4,
 "nbformat_minor": 5
}
